{
 "cells": [
  {
   "cell_type": "code",
   "execution_count": 1,
   "metadata": {
    "ExecuteTime": {
     "end_time": "2016-09-25T11:40:01.020870",
     "start_time": "2016-09-25T11:40:00.979666"
    },
    "collapsed": false,
    "run_control": {
     "frozen": false,
     "read_only": false
    }
   },
   "outputs": [],
   "source": [
    "from __future__ import print_function\n",
    "\n",
    "from ipyleaflet import (\n",
    "    Map,\n",
    "    Marker,\n",
    "    TileLayer, ImageOverlay,\n",
    "    Polyline, Polygon, Rectangle, Circle, CircleMarker,\n",
    "    GeoJSON, LayerGroup,\n",
    "    DrawControl\n",
    ")"
   ]
  },
  {
   "cell_type": "markdown",
   "metadata": {},
   "source": [
    "# Map"
   ]
  },
  {
   "cell_type": "markdown",
   "metadata": {},
   "source": [
    "A map is created Map and takes named parameters, see leaflet [docs](http://leafletjs.com/reference-1.0.0.html#map-example). Note that camelCase options used in java scripe are written with underscores in Python, e.g., attributionControl is attribution_control."
   ]
  },
  {
   "cell_type": "code",
   "execution_count": 22,
   "metadata": {
    "ExecuteTime": {
     "end_time": "2016-09-25T11:44:18.674361",
     "start_time": "2016-09-25T11:44:18.656262"
    },
    "collapsed": false,
    "run_control": {
     "frozen": false,
     "read_only": false
    }
   },
   "outputs": [],
   "source": [
    "m = Map(center=[34.6252978589571, -77.34580993652344], zoom=10, attribution_control=False)\n",
    "m"
   ]
  },
  {
   "cell_type": "markdown",
   "metadata": {
    "ExecuteTime": {
     "end_time": "2016-09-25T11:38:22.775249",
     "start_time": "2016-09-25T11:38:22.769155"
    },
    "heading_collapsed": true
   },
   "source": [
    "## Artibutes\n",
    "Map have attribtes "
   ]
  },
  {
   "cell_type": "code",
   "execution_count": 3,
   "metadata": {
    "ExecuteTime": {
     "end_time": "2016-09-25T11:40:11.850200",
     "start_time": "2016-09-25T11:40:11.842112"
    },
    "collapsed": false,
    "hidden": true,
    "run_control": {
     "frozen": false,
     "read_only": false
    }
   },
   "outputs": [
    {
     "name": "stdout",
     "output_type": "stream",
     "text": [
      "Zoom     10\n",
      "Center   [34.6252978589571, -77.34512329101562]\n",
      "bounds   [(34.39897808891371, -78.0084228515625), (34.85100201839405, -76.68182373046875)]\n",
      "model_id 6e30415a7f89448a9cda02f7befc6ce8\n"
     ]
    }
   ],
   "source": [
    "print('Zoom    ', m.zoom)\n",
    "print('Center  ', m.center)\n",
    "print('bounds  ', m.bounds)\n",
    "print('model_id', m.model_id)"
   ]
  },
  {
   "cell_type": "markdown",
   "metadata": {
    "hidden": true
   },
   "source": [
    "Changing these updates the map and can be used with widgets"
   ]
  },
  {
   "cell_type": "code",
   "execution_count": 4,
   "metadata": {
    "ExecuteTime": {
     "end_time": "2016-09-25T11:40:14.375098",
     "start_time": "2016-09-25T11:40:14.353822"
    },
    "collapsed": true,
    "hidden": true,
    "run_control": {
     "frozen": false,
     "read_only": false
    }
   },
   "outputs": [],
   "source": [
    "m.center = (-33.858840, 151.206701)\n",
    "m.interact(zoom=(5,10,1))"
   ]
  },
  {
   "cell_type": "markdown",
   "metadata": {},
   "source": [
    "# Layers\n",
    "\n",
    "Map support a range of Layers. These are added or removed from a map or can be turned on and off"
   ]
  },
  {
   "cell_type": "markdown",
   "metadata": {
    "heading_collapsed": true
   },
   "source": [
    "## Marker"
   ]
  },
  {
   "cell_type": "code",
   "execution_count": 5,
   "metadata": {
    "ExecuteTime": {
     "end_time": "2016-09-25T11:40:20.798436",
     "start_time": "2016-09-25T11:40:20.773863"
    },
    "collapsed": false,
    "hidden": true,
    "run_control": {
     "frozen": false,
     "read_only": false
    }
   },
   "outputs": [],
   "source": [
    "mark = Marker(location=m.center)\n",
    "m.add_layer(mark)\n",
    "mark.interact(opacity=(0.0,1.0,0.01))"
   ]
  },
  {
   "cell_type": "markdown",
   "metadata": {
    "hidden": true
   },
   "source": [
    "A layer can be hidden, but not removed from a map, setting visibility =False"
   ]
  },
  {
   "cell_type": "code",
   "execution_count": 6,
   "metadata": {
    "ExecuteTime": {
     "end_time": "2016-09-25T11:40:44.970137",
     "start_time": "2016-09-25T11:40:44.967562"
    },
    "collapsed": false,
    "hidden": true,
    "run_control": {
     "frozen": false,
     "read_only": false
    }
   },
   "outputs": [],
   "source": [
    "mark.visible = False"
   ]
  },
  {
   "cell_type": "markdown",
   "metadata": {
    "heading_collapsed": true
   },
   "source": [
    "## Image Overlay"
   ]
  },
  {
   "cell_type": "code",
   "execution_count": 7,
   "metadata": {
    "ExecuteTime": {
     "end_time": "2016-09-25T11:40:54.195962",
     "start_time": "2016-09-25T11:40:54.188035"
    },
    "collapsed": false,
    "hidden": true,
    "run_control": {
     "frozen": false,
     "read_only": false
    }
   },
   "outputs": [],
   "source": [
    "io = ImageOverlay(url='http://ipython.org/_static/IPy_header.png', bounds=m.bounds)\n",
    "m.add_layer(io)"
   ]
  },
  {
   "cell_type": "code",
   "execution_count": 8,
   "metadata": {
    "ExecuteTime": {
     "end_time": "2016-09-25T11:40:56.677600",
     "start_time": "2016-09-25T11:40:56.673353"
    },
    "collapsed": false,
    "hidden": true,
    "run_control": {
     "frozen": false,
     "read_only": false
    }
   },
   "outputs": [],
   "source": [
    "m.remove_layer(io)"
   ]
  },
  {
   "cell_type": "markdown",
   "metadata": {
    "heading_collapsed": true
   },
   "source": [
    "## Polyline"
   ]
  },
  {
   "cell_type": "code",
   "execution_count": 9,
   "metadata": {
    "ExecuteTime": {
     "end_time": "2016-09-25T11:41:09.470630",
     "start_time": "2016-09-25T11:41:09.462232"
    },
    "collapsed": false,
    "hidden": true,
    "run_control": {
     "frozen": false,
     "read_only": false
    }
   },
   "outputs": [],
   "source": [
    "pl = Polyline(locations=m.bounds_polygon)\n",
    "m += pl"
   ]
  },
  {
   "cell_type": "code",
   "execution_count": 13,
   "metadata": {
    "ExecuteTime": {
     "end_time": "2016-09-25T11:41:31.689427",
     "start_time": "2016-09-25T11:41:31.685396"
    },
    "collapsed": false,
    "hidden": true,
    "run_control": {
     "frozen": false,
     "read_only": false
    }
   },
   "outputs": [],
   "source": [
    "pl.fill_color = '#F00'\n",
    "pl.fill_opacity = 0.3"
   ]
  },
  {
   "cell_type": "code",
   "execution_count": 14,
   "metadata": {
    "ExecuteTime": {
     "end_time": "2016-09-25T11:41:48.345255",
     "start_time": "2016-09-25T11:41:48.342680"
    },
    "collapsed": false,
    "hidden": true,
    "run_control": {
     "frozen": false,
     "read_only": false
    }
   },
   "outputs": [],
   "source": [
    "m -= pl"
   ]
  },
  {
   "cell_type": "markdown",
   "metadata": {
    "heading_collapsed": true
   },
   "source": [
    "## Polygon"
   ]
  },
  {
   "cell_type": "code",
   "execution_count": 33,
   "metadata": {
    "ExecuteTime": {
     "end_time": "2016-09-25T11:35:16.029581",
     "start_time": "2016-09-25T11:35:16.020723"
    },
    "collapsed": false,
    "hidden": true,
    "run_control": {
     "frozen": false,
     "read_only": false
    }
   },
   "outputs": [],
   "source": [
    "pg = Polygon(locations=m.bounds_polygon, weight=3,\n",
    "            color='#F00', opacity=0.8, fill_opacity=0.8,\n",
    "            fill_color='#0F0')\n",
    "m += pg"
   ]
  },
  {
   "cell_type": "code",
   "execution_count": 34,
   "metadata": {
    "ExecuteTime": {
     "end_time": "2016-09-25T11:35:18.760397",
     "start_time": "2016-09-25T11:35:18.757834"
    },
    "collapsed": false,
    "hidden": true,
    "run_control": {
     "frozen": false,
     "read_only": false
    }
   },
   "outputs": [],
   "source": [
    "m -= pg"
   ]
  },
  {
   "cell_type": "markdown",
   "metadata": {
    "heading_collapsed": true
   },
   "source": [
    "## Rectangle"
   ]
  },
  {
   "cell_type": "code",
   "execution_count": 17,
   "metadata": {
    "ExecuteTime": {
     "end_time": "2016-09-25T11:42:41.894148",
     "start_time": "2016-09-25T11:42:41.885456"
    },
    "collapsed": false,
    "hidden": true,
    "run_control": {
     "frozen": false,
     "read_only": false
    }
   },
   "outputs": [],
   "source": [
    "r = Rectangle(bounds=m.bounds, weight=10, fill_opacity=0.0)\n",
    "m += r"
   ]
  },
  {
   "cell_type": "code",
   "execution_count": 18,
   "metadata": {
    "ExecuteTime": {
     "end_time": "2016-09-25T11:42:44.416151",
     "start_time": "2016-09-25T11:42:44.411868"
    },
    "collapsed": false,
    "hidden": true,
    "run_control": {
     "frozen": false,
     "read_only": false
    }
   },
   "outputs": [],
   "source": [
    "m -= r"
   ]
  },
  {
   "cell_type": "markdown",
   "metadata": {
    "heading_collapsed": true
   },
   "source": [
    "## Circle"
   ]
  },
  {
   "cell_type": "markdown",
   "metadata": {
    "ExecuteTime": {
     "end_time": "2016-09-25T11:46:06.465415",
     "start_time": "2016-09-25T11:46:06.459020"
    },
    "hidden": true
   },
   "source": [
    "Note radius etc don't seem to be live"
   ]
  },
  {
   "cell_type": "code",
   "execution_count": 23,
   "metadata": {
    "ExecuteTime": {
     "end_time": "2016-09-25T11:44:24.724914",
     "start_time": "2016-09-25T11:44:24.681350"
    },
    "collapsed": false,
    "hidden": true,
    "run_control": {
     "frozen": false,
     "read_only": false
    }
   },
   "outputs": [],
   "source": [
    "c = Circle(location=m.center, radius=3000, weight=1,color='#F00', opacity=1.0, fill_opacity=1.0,fill_color='#0F0')\n",
    "m.add_layer(c)\n",
    "c.interact(weight=(0,10,1), opacity=(0.0,1.0,0.01), radius=(3000,10000))"
   ]
  },
  {
   "cell_type": "code",
   "execution_count": null,
   "metadata": {
    "collapsed": false,
    "hidden": true,
    "run_control": {
     "frozen": false,
     "read_only": false
    }
   },
   "outputs": [],
   "source": [
    "m.remove_layer(c)"
   ]
  },
  {
   "cell_type": "markdown",
   "metadata": {
    "heading_collapsed": true
   },
   "source": [
    "## CircleMarker"
   ]
  },
  {
   "cell_type": "code",
   "execution_count": 28,
   "metadata": {
    "ExecuteTime": {
     "end_time": "2016-09-25T11:46:24.846151",
     "start_time": "2016-09-25T11:46:24.836603"
    },
    "collapsed": false,
    "hidden": true,
    "run_control": {
     "frozen": false,
     "read_only": false
    }
   },
   "outputs": [],
   "source": [
    "cm = CircleMarker(location=m.center, radius=30, weight=2,\n",
    "                  color='#F00', opacity=1.0, fill_opacity=1.0,\n",
    "                  fill_color='#0F0')\n",
    "m.add_layer(cm)"
   ]
  },
  {
   "cell_type": "code",
   "execution_count": 29,
   "metadata": {
    "ExecuteTime": {
     "end_time": "2016-09-25T11:46:59.557153",
     "start_time": "2016-09-25T11:46:59.554249"
    },
    "collapsed": false,
    "hidden": true,
    "run_control": {
     "frozen": false,
     "read_only": false
    }
   },
   "outputs": [],
   "source": [
    "m.remove_layer(cm)"
   ]
  },
  {
   "cell_type": "markdown",
   "metadata": {
    "heading_collapsed": true
   },
   "source": [
    "## Multiple Circles"
   ]
  },
  {
   "cell_type": "code",
   "execution_count": null,
   "metadata": {
    "collapsed": false,
    "hidden": true,
    "run_control": {
     "frozen": false,
     "read_only": false
    }
   },
   "outputs": [],
   "source": [
    "circles = []\n",
    "for pos in m.bounds_polygon:\n",
    "    c = Circle(location=pos, radius=1000)\n",
    "    circles.append(c)\n",
    "    m.add_layer(c)"
   ]
  },
  {
   "cell_type": "code",
   "execution_count": null,
   "metadata": {
    "collapsed": false,
    "hidden": true,
    "run_control": {
     "frozen": false,
     "read_only": false
    }
   },
   "outputs": [],
   "source": [
    "for c in circles:\n",
    "    m.remove_layer(c)"
   ]
  },
  {
   "cell_type": "markdown",
   "metadata": {},
   "source": [
    "## LayerGroups"
   ]
  },
  {
   "cell_type": "code",
   "execution_count": 30,
   "metadata": {
    "ExecuteTime": {
     "end_time": "2016-09-25T11:47:13.440106",
     "start_time": "2016-09-25T11:47:13.421666"
    },
    "collapsed": false,
    "run_control": {
     "frozen": false,
     "read_only": false
    }
   },
   "outputs": [],
   "source": [
    "center = [-33.858840, 151.206701]\n",
    "zoom = 50\n",
    "m = Map(center=center, zoom=zoom)\n",
    "m"
   ]
  },
  {
   "cell_type": "markdown",
   "metadata": {},
   "source": [
    "Layer groups are treaded as a single layer and can contain thousands of layers, i.e., markers or circles etc."
   ]
  },
  {
   "cell_type": "code",
   "execution_count": 31,
   "metadata": {
    "ExecuteTime": {
     "end_time": "2016-09-25T11:47:17.627859",
     "start_time": "2016-09-25T11:47:17.614577"
    },
    "collapsed": true,
    "run_control": {
     "frozen": false,
     "read_only": false
    }
   },
   "outputs": [],
   "source": [
    "lg = LayerGroup(layers=[Marker(location=[m.south,  m.east], title=\"Hello\"),\n",
    "                          Marker(location=center, title=\"Hello\", draggable=True)])"
   ]
  },
  {
   "cell_type": "markdown",
   "metadata": {},
   "source": [
    "When a LayerGroup is added all the layers in that group are added at once."
   ]
  },
  {
   "cell_type": "code",
   "execution_count": 32,
   "metadata": {
    "ExecuteTime": {
     "end_time": "2016-09-25T11:47:19.884283",
     "start_time": "2016-09-25T11:47:19.879904"
    },
    "collapsed": false,
    "run_control": {
     "frozen": false,
     "read_only": false
    }
   },
   "outputs": [],
   "source": [
    "m.add_layer(lg)"
   ]
  },
  {
   "cell_type": "markdown",
   "metadata": {},
   "source": [
    "If the LayerGroup is made invisible, then all the layers inthat group are made invisible. You can't make a single layer in a layer group invisable."
   ]
  },
  {
   "cell_type": "code",
   "execution_count": 33,
   "metadata": {
    "ExecuteTime": {
     "end_time": "2016-09-25T11:47:22.093215",
     "start_time": "2016-09-25T11:47:22.090533"
    },
    "collapsed": false,
    "run_control": {
     "frozen": false,
     "read_only": false
    }
   },
   "outputs": [],
   "source": [
    "lg.visible=False"
   ]
  },
  {
   "cell_type": "code",
   "execution_count": 34,
   "metadata": {
    "ExecuteTime": {
     "end_time": "2016-09-25T11:47:23.394636",
     "start_time": "2016-09-25T11:47:23.392049"
    },
    "collapsed": false,
    "run_control": {
     "frozen": false,
     "read_only": false
    }
   },
   "outputs": [],
   "source": [
    "lg.visible=True"
   ]
  },
  {
   "cell_type": "markdown",
   "metadata": {},
   "source": [
    "You can add and remove layers from a layer group and the map is updated"
   ]
  },
  {
   "cell_type": "code",
   "execution_count": 35,
   "metadata": {
    "ExecuteTime": {
     "end_time": "2016-09-25T11:47:25.686105",
     "start_time": "2016-09-25T11:47:25.678568"
    },
    "collapsed": false,
    "run_control": {
     "frozen": false,
     "read_only": false
    }
   },
   "outputs": [],
   "source": [
    "mark = Marker(location=[m.south,  m.west])\n",
    "lg.add_layer(mark)"
   ]
  },
  {
   "cell_type": "code",
   "execution_count": 36,
   "metadata": {
    "ExecuteTime": {
     "end_time": "2016-09-25T11:47:27.325965",
     "start_time": "2016-09-25T11:47:27.320732"
    },
    "collapsed": false,
    "run_control": {
     "frozen": false,
     "read_only": false
    }
   },
   "outputs": [],
   "source": [
    "lg.remove_layer(mark)"
   ]
  },
  {
   "cell_type": "markdown",
   "metadata": {
    "ExecuteTime": {
     "end_time": "2016-09-24T19:19:17.047892",
     "start_time": "2016-09-24T19:19:17.043241"
    }
   },
   "source": [
    "When a Layer or LayerGroup is removed from a map, it must be added to the map before it can be shown. That is you can't just set visibility True "
   ]
  },
  {
   "cell_type": "code",
   "execution_count": 37,
   "metadata": {
    "ExecuteTime": {
     "end_time": "2016-09-25T11:47:29.311281",
     "start_time": "2016-09-25T11:47:29.306961"
    },
    "collapsed": false,
    "run_control": {
     "frozen": false,
     "read_only": false
    }
   },
   "outputs": [],
   "source": [
    "m.remove_layer(lg)"
   ]
  }
 ],
 "metadata": {
  "anaconda-cloud": {},
  "hide_input": false,
  "kernelspec": {
   "display_name": "Python [conda env:ipyleaflet]",
   "language": "python",
   "name": "conda-env-ipyleaflet-py"
  },
  "language_info": {
   "codemirror_mode": {
    "name": "ipython",
    "version": 3
   },
   "file_extension": ".py",
   "mimetype": "text/x-python",
   "name": "python",
   "nbconvert_exporter": "python",
   "pygments_lexer": "ipython3",
   "version": "3.5.2"
  },
  "nav_menu": {},
  "toc": {
   "navigate_menu": true,
   "number_sections": true,
   "sideBar": true,
   "threshold": 6,
   "toc_cell": false,
   "toc_section_display": "block",
   "toc_window_display": false
  },
  "widgets": {
   "state": {
    "261c3982212b41d8a90bd62fa8d0906f": {
     "views": [
      {
       "cell_index": 37
      }
     ]
    },
    "996a58c88e514706a821d03872023354": {
     "views": [
      {
       "cell_index": 10
      }
     ]
    },
    "a3088f4d19974eebbf6f04fcf99ed362": {
     "views": [
      {
       "cell_index": 27
      }
     ]
    },
    "c403cbda12c54bbea7a6c9f7b155a2d0": {
     "views": [
      {
       "cell_index": 3
      }
     ]
    },
    "e6d18e629e6a42cc9a226d3fe53951f3": {
     "views": [
      {
       "cell_index": 7
      }
     ]
    }
   },
   "version": "1.2.0"
  }
 },
 "nbformat": 4,
 "nbformat_minor": 1
}
